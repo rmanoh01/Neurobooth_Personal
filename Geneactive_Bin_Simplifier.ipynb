{
 "cells": [
  {
   "cell_type": "code",
   "execution_count": 76,
   "id": "99b6ae36",
   "metadata": {},
   "outputs": [
    {
     "name": "stdout",
     "output_type": "stream",
     "text": [
      "File processed previously, skipping creation of output folder\n",
      "File has already been processed and condensed\n",
      "Processed C:\\Users\\rohin\\Downloads\\30033_202307_remote_wrist.bin and created C:\\Users\\rohin\\Script_outputter\\condensed_30033_202307_remote_wrist.bin\n",
      "File has already been processed and condensed\n",
      "Processed C:\\Users\\rohin\\Downloads\\30073_202307_remote_wrist.bin and created C:\\Users\\rohin\\Script_outputter\\condensed_30073_202307_remote_wrist.bin\n",
      "All files processed and condensed.\n"
     ]
    }
   ],
   "source": [
    "import os \n",
    "import glob\n",
    "\n",
    "#Extracts first n lines of data from bin file\n",
    "#Returns length of string after the target string as a way to flag excessive device drift\n",
    "def extract_head(input_file, output_file, n_lines: int):\n",
    "    target_string=b'Extract Notes:(device clock drift '\n",
    "    with open(input_file, 'rb') as f_in, open(output_file, 'wb') as f_out:\n",
    "        for _ in range(n_lines):\n",
    "            f_out.write(f_in.readline())\n",
    "        f_in.close()\n",
    "        f_out.close()\n",
    "        with open(input_file, 'rb') as f_in:\n",
    "            for line in f_in:\n",
    "                if target_string in line:\n",
    "                    rest_of_line = line[len(target_string):]\n",
    "                    len_of_rest = len(rest_of_line)\n",
    "                    return len_of_rest  \n",
    "            f_in.close()\n",
    "                \n",
    "#Checks if files have been previously outputted by this script \n",
    "def check_file(output_folder, filename):\n",
    "    if (os.path.exists(os.path.join(output_folder, f'condensed_{filename}'))) or (os.path.exists(os.path.join(output_folder, f'flagged_condensed_{filename}'))):\n",
    "        return False\n",
    "    else:\n",
    "        return True\n",
    "    \n",
    "def main():\n",
    "    input_folder = r'C:\\Users\\rohin\\Downloads' ##CHANGE THIS \n",
    "    output_folder = r'C:\\Users\\rohin\\Script_outputter'##CHANGE THIS\n",
    "    \n",
    "    if os.path.exists(output_folder):\n",
    "        print(f'File processed previously, skipping creation of output folder')\n",
    "    \n",
    "    if not os.path.exists(output_folder):\n",
    "        os.makedirs(output_folder)\n",
    "        \n",
    "    file_pattern = os.path.join(input_folder, '*.bin')\n",
    "    files = glob.glob(file_pattern)\n",
    "    \n",
    "    for input_file in files:\n",
    "        filename = os.path.basename(input_file)\n",
    "        output_file = os.path.join(output_folder, f'condensed_{filename}')\n",
    "        should_process = check_file(output_folder, filename)\n",
    "        if should_process:\n",
    "            len_of_rest = extract_head(input_file, output_file, 39)\n",
    "            #Flags files that have a device drift greater than 99.999s with \"flagged_\"\n",
    "            if len_of_rest > 10:\n",
    "                output_file = os.replace(os.path.join(output_folder, f'condensed_{filename}'),\n",
    "                os.path.join(output_folder, f'flagged_condensed_{filename}'))\n",
    "            else:\n",
    "                output_file = os.path.join(output_folder, f'condensed_{filename}')\n",
    "        else:\n",
    "            print('File has already been processed and condensed')\n",
    "        \n",
    "\n",
    "        print(f'Processed {input_file} and created {output_file}')\n",
    "        #print(rest_of_line)\n",
    "    print('All files processed and condensed.')\n",
    "\n",
    "if __name__ == \"__main__\":\n",
    "    main()\n",
    "    "
   ]
  },
  {
   "cell_type": "code",
   "execution_count": null,
   "id": "d786f92e",
   "metadata": {},
   "outputs": [],
   "source": []
  }
 ],
 "metadata": {
  "kernelspec": {
   "display_name": "Python 3 (ipykernel)",
   "language": "python",
   "name": "python3"
  },
  "language_info": {
   "codemirror_mode": {
    "name": "ipython",
    "version": 3
   },
   "file_extension": ".py",
   "mimetype": "text/x-python",
   "name": "python",
   "nbconvert_exporter": "python",
   "pygments_lexer": "ipython3",
   "version": "3.10.9"
  }
 },
 "nbformat": 4,
 "nbformat_minor": 5
}
